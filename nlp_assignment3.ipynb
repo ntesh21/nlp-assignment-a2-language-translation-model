{
 "cells": [
  {
   "cell_type": "code",
   "execution_count": 40,
   "metadata": {},
   "outputs": [
    {
     "name": "stdout",
     "output_type": "stream",
     "text": [
      "cuda\n"
     ]
    }
   ],
   "source": [
    "import torch\n",
    "from torch import nn\n",
    "\n",
    "import random, math, time\n",
    "\n",
    "device = torch.device('cuda' if torch.cuda.is_available() else 'cpu')\n",
    "print(device)\n",
    "\n",
    "#make our work comparable if restarted the kernel\n",
    "SEED = 1234\n",
    "torch.manual_seed(SEED)\n",
    "torch.backends.cudnn.deterministic = True"
   ]
  },
  {
   "cell_type": "code",
   "execution_count": 41,
   "metadata": {},
   "outputs": [],
   "source": [
    "SRC_LANGUAGE = 'en'\n",
    "TRG_LANGUAGE = 'ne'"
   ]
  },
  {
   "cell_type": "code",
   "execution_count": 42,
   "metadata": {},
   "outputs": [],
   "source": [
    "data_dir = './dataset/corpus/collected/'"
   ]
  },
  {
   "cell_type": "code",
   "execution_count": 43,
   "metadata": {},
   "outputs": [],
   "source": [
    "import os\n",
    "\n",
    "src_data_path = os.path.join(data_dir, 'train-small.en')\n",
    "trg_data_path = os.path.join(data_dir, 'train-small.ne')\n"
   ]
  },
  {
   "cell_type": "code",
   "execution_count": 5,
   "metadata": {},
   "outputs": [],
   "source": [
    "import torch\n",
    "from torch.utils.data import Dataset\n",
    "\n",
    "class TranslationDataset(Dataset):\n",
    "    def __init__(self, source_file, target_file):\n",
    "        # Load English and Nepali data from files\n",
    "        with open(source_file, 'r', encoding='utf-8') as f:\n",
    "            self.src_data = f.readlines()\n",
    "\n",
    "        with open(target_file, 'r', encoding='utf-8') as f:\n",
    "            self.trg_data = f.readlines()\n",
    "\n",
    "    def __len__(self):\n",
    "        return len(self.english_data)\n",
    "\n",
    "    def __getitem__(self, idx):\n",
    "        return (\n",
    "            self.src_data[idx].lower().strip(),\n",
    "            self.trg_data[idx].strip()\n",
    "        )\n"
   ]
  },
  {
   "cell_type": "code",
   "execution_count": 6,
   "metadata": {},
   "outputs": [],
   "source": [
    "translation_dataset = TranslationDataset(src_data_path, trg_data_path)\n"
   ]
  },
  {
   "cell_type": "code",
   "execution_count": 7,
   "metadata": {},
   "outputs": [],
   "source": [
    "from torch.utils.data.datapipes.iter.sharding import ShardingFilterIterDataPipe\n",
    "\n",
    "sharding_data_pipe = ShardingFilterIterDataPipe(translation_dataset)"
   ]
  },
  {
   "cell_type": "markdown",
   "metadata": {},
   "source": [
    "Data preparation process\n",
    "========================\n",
    "\n",
    "- Define the paths to the source (English) and target (Nepali) data files.\n",
    "- Class **TranslationDataset** for creating custom dataset\n",
    "\n",
    "### **TranslationDataset**\n",
    "It reads the source and target data from the specified files and stores them in the src_data and trg_data attributes. The __len__ method returns the total number of samples in the dataset. The __getitem__ method retrieves a pair of source and target sentences at the given index. It lowercases the source sentence and removes leading/trailing whitespaces.\n",
    "\n",
    "- The ShardingFilterIterDataPipe is used for shuffling and splitting the dataset into training, validation, and test sets.\n",
    "\n",
    "\n",
    "The random_split method is called to split the dataset into training, validation, and test sets. The total_length parameter is set to the length of the original dataset. The weights parameter specifies the proportion of data to be allocated to each set. The seed parameter ensures reproducibility by providing a seed for the random number generator.\n",
    "\n",
    "This process results in three subsets: train, val, and test, each containing a portion of the original dataset according to the specified weights. These subsets can then be used for training, validation, and testing your machine translation model.\n"
   ]
  },
  {
   "cell_type": "markdown",
   "metadata": {},
   "source": [
    "### EDA - simple investigation"
   ]
  },
  {
   "cell_type": "code",
   "execution_count": 44,
   "metadata": {},
   "outputs": [
    {
     "data": {
      "text/plain": [
       "ShardingFilterIterDataPipe"
      ]
     },
     "execution_count": 44,
     "metadata": {},
     "output_type": "execute_result"
    }
   ],
   "source": [
    "sharding_data_pipe"
   ]
  },
  {
   "cell_type": "code",
   "execution_count": 45,
   "metadata": {},
   "outputs": [],
   "source": [
    "#let's take a look at one example of train\n",
    "sample = next(iter(sharding_data_pipe))\n"
   ]
  },
  {
   "cell_type": "code",
   "execution_count": 46,
   "metadata": {},
   "outputs": [
    {
     "data": {
      "text/plain": [
       "('it happened after the death of saul, when david was returned from the slaughter of the amalekites, and david had stayed two days in ziklag;',\n",
       " 'दाऊदले अमालेकीहरूलाई हराएर पछि सिकलग गए। यो शाऊलको मृत्यु भएको केही दिन पछिको कुरा हो। दाऊद त्यहाँ दुइ दिन बसे।')"
      ]
     },
     "execution_count": 46,
     "metadata": {},
     "output_type": "execute_result"
    }
   ],
   "source": [
    "sample"
   ]
  },
  {
   "cell_type": "code",
   "execution_count": 47,
   "metadata": {},
   "outputs": [
    {
     "data": {
      "text/plain": [
       "30000"
      ]
     },
     "execution_count": 47,
     "metadata": {},
     "output_type": "execute_result"
    }
   ],
   "source": [
    "train_size = len(list(iter(sharding_data_pipe)))\n",
    "train_size"
   ]
  },
  {
   "cell_type": "code",
   "execution_count": 48,
   "metadata": {},
   "outputs": [],
   "source": [
    "train, val, test = sharding_data_pipe.random_split(total_length=train_size, weights = {\"train\": 0.7, \"val\": 0.2, \"test\": 0.1}, seed=999)\n"
   ]
  },
  {
   "cell_type": "code",
   "execution_count": 49,
   "metadata": {},
   "outputs": [
    {
     "data": {
      "text/plain": [
       "21000"
      ]
     },
     "execution_count": 49,
     "metadata": {},
     "output_type": "execute_result"
    }
   ],
   "source": [
    "train_size = len(list(iter(train)))\n",
    "train_size"
   ]
  },
  {
   "cell_type": "code",
   "execution_count": 50,
   "metadata": {},
   "outputs": [
    {
     "data": {
      "text/plain": [
       "6000"
      ]
     },
     "execution_count": 50,
     "metadata": {},
     "output_type": "execute_result"
    }
   ],
   "source": [
    "val_size = len(list(iter(val)))\n",
    "val_size"
   ]
  },
  {
   "cell_type": "code",
   "execution_count": 51,
   "metadata": {},
   "outputs": [
    {
     "data": {
      "text/plain": [
       "3000"
      ]
     },
     "execution_count": 51,
     "metadata": {},
     "output_type": "execute_result"
    }
   ],
   "source": [
    "test_size = len(list(iter(test)))\n",
    "test_size"
   ]
  },
  {
   "cell_type": "markdown",
   "metadata": {},
   "source": [
    "###  Preprocessing"
   ]
  },
  {
   "cell_type": "code",
   "execution_count": 52,
   "metadata": {},
   "outputs": [],
   "source": [
    "# Place-holders\n",
    "token_transform = {}\n",
    "vocab_transform = {}"
   ]
  },
  {
   "cell_type": "code",
   "execution_count": 17,
   "metadata": {},
   "outputs": [],
   "source": [
    "from torchtext.data.utils import get_tokenizer\n",
    "token_transform[SRC_LANGUAGE] = get_tokenizer('spacy', language='en_core_web_sm')"
   ]
  },
  {
   "cell_type": "code",
   "execution_count": 18,
   "metadata": {},
   "outputs": [
    {
     "name": "stdout",
     "output_type": "stream",
     "text": [
      "Sentence:  it happened after the death of saul, when david was returned from the slaughter of the amalekites, and david had stayed two days in ziklag;\n",
      "Tokenization:  ['it', 'happened', 'after', 'the', 'death', 'of', 'saul', ',', 'when', 'david', 'was', 'returned', 'from', 'the', 'slaughter', 'of', 'the', 'amalekites', ',', 'and', 'david', 'had', 'stayed', 'two', 'days', 'in', 'ziklag', ';']\n"
     ]
    }
   ],
   "source": [
    "#example of tokenization of the english part\n",
    "print(\"Sentence: \", sample[0])\n",
    "print(\"Tokenization: \", token_transform[SRC_LANGUAGE](sample[0]))"
   ]
  },
  {
   "cell_type": "code",
   "execution_count": 19,
   "metadata": {},
   "outputs": [],
   "source": [
    "# nepali language tokenization\n",
    "from indicnlp.tokenize import indic_tokenize\n",
    "\n",
    "token_transform[TRG_LANGUAGE] = indic_tokenize.trivial_tokenize"
   ]
  },
  {
   "cell_type": "code",
   "execution_count": 20,
   "metadata": {},
   "outputs": [
    {
     "data": {
      "text/plain": [
       "{'en': functools.partial(<function _spacy_tokenize at 0x0000019D440D6D40>, spacy=<spacy.lang.en.English object at 0x0000019D4BD5BD90>),\n",
       " 'ne': <function indicnlp.tokenize.indic_tokenize.trivial_tokenize(text, lang='hi')>}"
      ]
     },
     "execution_count": 20,
     "metadata": {},
     "output_type": "execute_result"
    }
   ],
   "source": [
    "token_transform"
   ]
  },
  {
   "cell_type": "code",
   "execution_count": 21,
   "metadata": {},
   "outputs": [],
   "source": [
    "torch.save(token_transform['en'], './models/en_token.pth')"
   ]
  },
  {
   "cell_type": "code",
   "execution_count": 22,
   "metadata": {},
   "outputs": [],
   "source": [
    "torch.save(token_transform['ne'], './models/ne_token.pth')"
   ]
  },
  {
   "cell_type": "code",
   "execution_count": 23,
   "metadata": {},
   "outputs": [
    {
     "name": "stdout",
     "output_type": "stream",
     "text": [
      "Sentence:  दाऊदले अमालेकीहरूलाई हराएर पछि सिकलग गए। यो शाऊलको मृत्यु भएको केही दिन पछिको कुरा हो। दाऊद त्यहाँ दुइ दिन बसे।\n",
      "Tokenization:  ['दाऊदले', 'अमालेकीहरूलाई', 'हराएर', 'पछि', 'सिकलग', 'गए', '।', 'यो', 'शाऊलको', 'मृत्यु', 'भएको', 'केही', 'दिन', 'पछिको', 'कुरा', 'हो', '।', 'दाऊद', 'त्यहाँ', 'दुइ', 'दिन', 'बसे', '।']\n"
     ]
    }
   ],
   "source": [
    "\n",
    "print(\"Sentence: \", sample[1])\n",
    "print(\"Tokenization: \", token_transform[TRG_LANGUAGE](sample[1]))"
   ]
  },
  {
   "cell_type": "code",
   "execution_count": 25,
   "metadata": {},
   "outputs": [],
   "source": [
    "# helper function to yield list of tokens\n",
    "# here data can be `train` or `val` or `test`\n",
    "def yield_tokens(data, language):\n",
    "    language_index = {SRC_LANGUAGE: 0, TRG_LANGUAGE: 1}\n",
    "\n",
    "    for data_sample in data:\n",
    "        # print(data_sample[language_index[language]])\n",
    "        # if language == 'en':\n",
    "        yield token_transform[language](data_sample[language_index[language]]) #either first or second index\n",
    "        # else:\n",
    "            # yield token_transform[language].trivial_tokenize(data_sample[language_index[language]], lang='hi') #either first or second index\n"
   ]
  },
  {
   "cell_type": "markdown",
   "metadata": {},
   "source": [
    "Tokenization Process\n",
    "=======================\n",
    "\n",
    "For tokenizing source language(english): **torchtext** is used to obtain a tokenizer based on the specified library and language. In this case, it uses the 'spacy' tokenizer for English.\n",
    "\n",
    "For tokenizing source language(Nepali): the indic_tokenize.trivial_tokenize function from **indicnlp library** is used. \n",
    "\n",
    "- *This, **indicnlp tokenizer** specifically designed for tokenizing Hindi text and since Hindi and Nepali have a same script and writing structure, this is used for tokenizing nepali text.*\n",
    "\n",
    "Compared to other nepali/hindi tokenizer the **indicnlp** library tokenizer performs very well\n",
    "\n",
    "\n",
    "\n",
    "**yield_tokens**: This is a helper function that takes a dataset (data) and a language (language) as input. It uses the previously defined token transforms (token_transform) to tokenize the sentences in the dataset based on the specified language.\n",
    "\n",
    "The language_index dictionary is used to map language names to their corresponding indices in the data samples. For example, **SRC_LANGUAGE** is mapped to 0, and **TRG_LANGUAGE** is mapped to 1.\n",
    "\n",
    "The function iterates over each data sample, retrieves the text based on the language index, and tokenizes the text using the appropriate tokenizer obtained earlier. It yields a list of tokens for each data sample."
   ]
  },
  {
   "cell_type": "code",
   "execution_count": 26,
   "metadata": {},
   "outputs": [],
   "source": [
    "# Define special symbols and indices\n",
    "UNK_IDX, PAD_IDX, SOS_IDX, EOS_IDX = 0, 1, 2, 3\n",
    "# Make sure the tokens are in order of their indices to properly insert them in vocab\n",
    "special_symbols = ['<unk>', '<pad>', '<sos>', '<eos>']"
   ]
  },
  {
   "cell_type": "markdown",
   "metadata": {},
   "source": [
    "### Text to integers (Numericalization)\n"
   ]
  },
  {
   "cell_type": "code",
   "execution_count": 27,
   "metadata": {},
   "outputs": [
    {
     "name": "stdout",
     "output_type": "stream",
     "text": [
      "{'en': Vocab()}\n",
      "{'en': Vocab(), 'ne': Vocab()}\n",
      "{'en': Vocab(), 'ne': Vocab()}\n",
      "{'en': Vocab(), 'ne': Vocab()}\n"
     ]
    }
   ],
   "source": [
    "from torchtext.vocab import build_vocab_from_iterator\n",
    "\n",
    "for ln in [SRC_LANGUAGE, TRG_LANGUAGE]:\n",
    "    # Create torchtext's Vocab object \n",
    "    vocab_transform[ln] = build_vocab_from_iterator(yield_tokens(train, ln), \n",
    "                                                    min_freq=2,   #if not, everything will be treated as UNK\n",
    "                                                    specials=special_symbols,\n",
    "                                                    special_first=True) #indicates whether to insert symbols at the beginning or at the end \n",
    "    print(vocab_transform)                                           \n",
    "# Set UNK_IDX as the default index. This index is returned when the token is not found. \n",
    "# If not set, it throws RuntimeError when the queried token is not found in the Vocabulary. \n",
    "for ln in [SRC_LANGUAGE, TRG_LANGUAGE]:\n",
    "    vocab_transform[ln].set_default_index(UNK_IDX)\n",
    "    print(vocab_transform)"
   ]
  },
  {
   "cell_type": "code",
   "execution_count": 28,
   "metadata": {},
   "outputs": [],
   "source": [
    "torch.save(vocab_transform['en'], './models/en_vocab.pth')"
   ]
  },
  {
   "cell_type": "code",
   "execution_count": 29,
   "metadata": {},
   "outputs": [],
   "source": [
    "torch.save(vocab_transform['ne'], './models/ne_vocab.pth')"
   ]
  },
  {
   "cell_type": "code",
   "execution_count": 30,
   "metadata": {},
   "outputs": [
    {
     "name": "stdout",
     "output_type": "stream",
     "text": [
      "{'en': Vocab(), 'ne': Vocab()}\n"
     ]
    }
   ],
   "source": [
    "print(vocab_transform)"
   ]
  },
  {
   "cell_type": "code",
   "execution_count": 31,
   "metadata": {},
   "outputs": [
    {
     "data": {
      "text/plain": [
       "[0, 0, 0, 0, 0]"
      ]
     },
     "execution_count": 31,
     "metadata": {},
     "output_type": "execute_result"
    }
   ],
   "source": [
    "#see some example\n",
    "vocab_transform[TRG_LANGUAGE](['here', 'is', 'a', 'unknownword', 'a'])"
   ]
  },
  {
   "cell_type": "code",
   "execution_count": 32,
   "metadata": {},
   "outputs": [
    {
     "data": {
      "text/plain": [
       "'stirred'"
      ]
     },
     "execution_count": 32,
     "metadata": {},
     "output_type": "execute_result"
    }
   ],
   "source": [
    "#we can reverse it....\n",
    "mapping = vocab_transform[SRC_LANGUAGE].get_itos()\n",
    "\n",
    "#print 1891, for example\n",
    "mapping[1891]"
   ]
  },
  {
   "cell_type": "code",
   "execution_count": 33,
   "metadata": {},
   "outputs": [
    {
     "data": {
      "text/plain": [
       "'<unk>'"
      ]
     },
     "execution_count": 33,
     "metadata": {},
     "output_type": "execute_result"
    }
   ],
   "source": [
    "#let's try unknown vocab\n",
    "mapping[0]\n",
    "#they will all map to <unk> which has 0 as integer"
   ]
  },
  {
   "cell_type": "code",
   "execution_count": 34,
   "metadata": {},
   "outputs": [
    {
     "data": {
      "text/plain": [
       "('<pad>', '<sos>', '<eos>')"
      ]
     },
     "execution_count": 34,
     "metadata": {},
     "output_type": "execute_result"
    }
   ],
   "source": [
    "#let's try special symbols\n",
    "mapping[1], mapping[2], mapping[3]"
   ]
  },
  {
   "cell_type": "code",
   "execution_count": 35,
   "metadata": {},
   "outputs": [
    {
     "data": {
      "text/plain": [
       "7333"
      ]
     },
     "execution_count": 35,
     "metadata": {},
     "output_type": "execute_result"
    }
   ],
   "source": [
    "#check unique vocabularies\n",
    "len(mapping)"
   ]
  },
  {
   "cell_type": "markdown",
   "metadata": {},
   "source": [
    "Numericalization\n",
    "=============\n",
    "\n",
    "The numericalization process involves converting tokenized sentences into sequences of indices based on the vocabulary created. This step is crucial for feeding text data into neural networks or other machine learning models.\n",
    "\n",
    "Here the vocab transform maps the token to indexes(numbers) and vice versa for source and target language respectiely"
   ]
  },
  {
   "cell_type": "markdown",
   "metadata": {},
   "source": [
    "###  Preparing the dataloader"
   ]
  },
  {
   "cell_type": "code",
   "execution_count": 36,
   "metadata": {},
   "outputs": [],
   "source": [
    "from torch.nn.utils.rnn import pad_sequence\n",
    "from torch.utils.data import DataLoader\n",
    "\n",
    "BATCH_SIZE = 64"
   ]
  },
  {
   "cell_type": "code",
   "execution_count": 37,
   "metadata": {},
   "outputs": [],
   "source": [
    "# helper function to club together sequential operations\n",
    "def sequential_transforms(*transforms):\n",
    "    # print(type(transforms[0]))\n",
    "    def func(txt_input):\n",
    "        for transform in transforms:\n",
    "            print(transform)\n",
    "            print(txt_input)\n",
    "            # if transform.__class__.__name__ == 'module':\n",
    "            #     print(txt_input)\n",
    "            #     txt_input = transform(txt_input, lang='hi')\n",
    "            # else:\n",
    "            # # print(\"Hello\", transform.__class__.__name__)\n",
    "            txt_input = transform(txt_input)\n",
    "        return txt_input\n",
    "    return func"
   ]
  },
  {
   "cell_type": "code",
   "execution_count": 38,
   "metadata": {},
   "outputs": [],
   "source": [
    "# function to add BOS/EOS and create tensor for input sequence indices\n",
    "def tensor_transform(token_ids):\n",
    "    return torch.cat((torch.tensor([SOS_IDX]), \n",
    "                      torch.tensor(token_ids), \n",
    "                      torch.tensor([EOS_IDX])))\n",
    "\n",
    "# src and trg language text transforms to convert raw strings into tensors indices\n",
    "text_transform = {}\n",
    "for ln in [SRC_LANGUAGE, TRG_LANGUAGE]:\n",
    "\n",
    "    text_transform[ln] = sequential_transforms(token_transform[ln], #Tokenization\n",
    "                                               vocab_transform[ln], #Numericalization\n",
    "                                               tensor_transform) # Add BOS/EOS and create tensor"
   ]
  },
  {
   "cell_type": "code",
   "execution_count": 203,
   "metadata": {},
   "outputs": [],
   "source": [
    "# function to collate data samples into batch tesors\n",
    "def collate_batch(batch):\n",
    "    src_batch, src_len_batch, trg_batch = [], [], []\n",
    "    for src_sample, trg_sample in batch:\n",
    "        processed_text = text_transform[SRC_LANGUAGE](src_sample.rstrip(\"\\n\"))\n",
    "        src_batch.append(processed_text)\n",
    "        trg_batch.append(text_transform[TRG_LANGUAGE](trg_sample.rstrip(\"\\n\")))\n",
    "        src_len_batch.append(processed_text.size(0))\n",
    "    src_batch = pad_sequence(src_batch, padding_value=PAD_IDX)\n",
    "    trg_batch = pad_sequence(trg_batch, padding_value=PAD_IDX)\n",
    "    return src_batch, torch.tensor(src_len_batch, dtype=torch.int64), trg_batch"
   ]
  },
  {
   "cell_type": "code",
   "execution_count": 34,
   "metadata": {},
   "outputs": [
    {
     "name": "stderr",
     "output_type": "stream",
     "text": [
      "c:\\Users\\PREDATOR\\Music\\ML_project\\nlp\\nlp-assignment-a3\\.conda\\lib\\site-packages\\torch\\utils\\data\\graph_settings.py:106: UserWarning: `shuffle=True` was set, but the datapipe does not contain a `Shuffler`. Adding one at the end. Be aware that the default buffer size might not be sufficient for your task.\n",
      "  warnings.warn(\n"
     ]
    }
   ],
   "source": [
    "batch_size = 64\n",
    "\n",
    "train_loader = DataLoader(train, batch_size=batch_size, shuffle=True,  collate_fn=collate_batch)\n",
    "valid_loader = DataLoader(val,   batch_size=batch_size, shuffle=False, collate_fn=collate_batch)\n",
    "test_loader  = DataLoader(test,  batch_size=batch_size, shuffle=False, collate_fn=collate_batch)"
   ]
  },
  {
   "cell_type": "code",
   "execution_count": 35,
   "metadata": {},
   "outputs": [
    {
     "data": {
      "text/plain": [
       "<torch.utils.data.dataloader.DataLoader at 0x2389dddae90>"
      ]
     },
     "execution_count": 35,
     "metadata": {},
     "output_type": "execute_result"
    }
   ],
   "source": [
    "train_loader"
   ]
  },
  {
   "cell_type": "code",
   "execution_count": 36,
   "metadata": {},
   "outputs": [],
   "source": [
    "for en, _, ne in train_loader:\n",
    "    break"
   ]
  },
  {
   "cell_type": "code",
   "execution_count": 37,
   "metadata": {},
   "outputs": [
    {
     "name": "stdout",
     "output_type": "stream",
     "text": [
      "English shape:  torch.Size([74, 64])\n",
      "German shape:  torch.Size([56, 64])\n"
     ]
    }
   ],
   "source": [
    "print(\"English shape: \", en.shape)  # (seq len, batch_size)\n",
    "print(\"German shape: \", ne.shape)   # (seq len, batch_size)"
   ]
  },
  {
   "cell_type": "markdown",
   "metadata": {},
   "source": [
    "### Design the model\n",
    "Seq2Seq"
   ]
  },
  {
   "cell_type": "code",
   "execution_count": 38,
   "metadata": {},
   "outputs": [],
   "source": [
    "class Seq2SeqPackedAttention(nn.Module):\n",
    "    def __init__(self, encoder, decoder, src_pad_idx, device):\n",
    "        super().__init__()\n",
    "        self.encoder = encoder\n",
    "        self.decoder = decoder\n",
    "        self.src_pad_idx = src_pad_idx\n",
    "        self.device  = device\n",
    "        \n",
    "    def create_mask(self, src):\n",
    "        #src: [src len, batch_size]\n",
    "        mask = (src == self.src_pad_idx).permute(1, 0)  #permute so that it's the same shape as attention\n",
    "        #mask: [batch_size, src len] #(0, 0, 0, 0, 0, 1, 1)\n",
    "        return mask\n",
    "        \n",
    "    def forward(self, src, src_len, trg, teacher_forcing_ratio = 0.5):\n",
    "        #src: [src len, batch_size]\n",
    "        #trg: [trg len, batch_size]\n",
    "        \n",
    "        #initialize something\n",
    "        batch_size = src.shape[1]\n",
    "        trg_len    = trg.shape[0]\n",
    "        trg_vocab_size = self.decoder.output_dim\n",
    "        \n",
    "        outputs    = torch.zeros(trg_len, batch_size, trg_vocab_size).to(self.device)\n",
    "        attentions = torch.zeros(trg_len, batch_size, src.shape[0]).to(self.device)\n",
    "        \n",
    "        #send our src text into encoder\n",
    "        encoder_outputs, hidden = self.encoder(src, src_len)\n",
    "        #encoder_outputs refer to all hidden states (last layer)\n",
    "        #hidden refer to the last hidden state (of each layer, of each direction)\n",
    "        \n",
    "        input_ = trg[0, :]\n",
    "        \n",
    "        mask   = self.create_mask(src) #(0, 0, 0, 0, 0, 1, 1)\n",
    "        \n",
    "        #for each of the input of the trg text\n",
    "        for t in range(1, trg_len):\n",
    "            #send them to the decoder\n",
    "            output, hidden, attention = self.decoder(input_, hidden, encoder_outputs, mask)\n",
    "            #output: [batch_size, output_dim] ==> predictions\n",
    "            #hidden: [batch_size, hid_dim]\n",
    "            #attention: [batch_size, src len]\n",
    "            \n",
    "            #append the output to a list\n",
    "            outputs[t] = output\n",
    "            attentions[t] = attention\n",
    "            \n",
    "            teacher_force = random.random() < teacher_forcing_ratio\n",
    "            top1          = output.argmax(1)  #autoregressive\n",
    "            \n",
    "            input_ = trg[t] if teacher_force else top1\n",
    "            \n",
    "        return outputs, attentions"
   ]
  },
  {
   "cell_type": "markdown",
   "metadata": {},
   "source": [
    "### Encoder"
   ]
  },
  {
   "cell_type": "code",
   "execution_count": 39,
   "metadata": {},
   "outputs": [],
   "source": [
    "class Encoder(nn.Module):\n",
    "    def __init__(self, input_dim, emb_dim, hid_dim, dropout):\n",
    "        super().__init__()\n",
    "        self.embedding = nn.Embedding(input_dim, emb_dim)\n",
    "        self.rnn       = nn.GRU(emb_dim, hid_dim, bidirectional=True)\n",
    "        self.fc        = nn.Linear(hid_dim * 2, hid_dim)\n",
    "        self.dropout   = nn.Dropout(dropout)\n",
    "        \n",
    "    def forward(self, src, src_len):\n",
    "        #embedding\n",
    "        embedded = self.dropout(self.embedding(src))\n",
    "        #packed\n",
    "        packed_embedded = nn.utils.rnn.pack_padded_sequence(embedded, src_len.to('cpu'), enforce_sorted=False)\n",
    "        #rnn\n",
    "        packed_outputs, hidden = self.rnn(packed_embedded)\n",
    "        #unpacked\n",
    "        outputs, _ = nn.utils.rnn.pad_packed_sequence(packed_outputs)\n",
    "        #-1, -2 hidden state\n",
    "        hidden = torch.tanh(self.fc(torch.cat((hidden[-2, :, :], hidden[-1, :, :]), dim = 1)))\n",
    "        \n",
    "        #outputs: [src len, batch_size, hid dim * 2]\n",
    "        #hidden:  [batch_size, hid_dim]\n",
    "        \n",
    "        return outputs, hidden"
   ]
  },
  {
   "cell_type": "markdown",
   "metadata": {},
   "source": [
    "### Attention"
   ]
  },
  {
   "cell_type": "code",
   "execution_count": 40,
   "metadata": {},
   "outputs": [],
   "source": [
    "# class Attention(nn.Module):\n",
    "#     def __init__(self, hid_dim):\n",
    "#         super().__init__()\n",
    "#         self.v = nn.Linear(hid_dim, 1, bias = False)\n",
    "#         self.W = nn.Linear(hid_dim, hid_dim) #for decoder input_\n",
    "#         self.U = nn.Linear(hid_dim * 2, hid_dim)  #for encoder_outputs\n",
    "    \n",
    "#     def forward(self, hidden, encoder_outputs, mask):\n",
    "#         #hidden = [batch_size, hid_dim] ==> first hidden is basically the last hidden of the encoder\n",
    "#         #encoder_outputs = [src len, batch_size, hid_dim * 2]\n",
    "        \n",
    "#         batch_size = encoder_outputs.shape[1]\n",
    "#         src_len    = encoder_outputs.shape[0]\n",
    "        \n",
    "#         #repeat the hidden src len times\n",
    "#         hidden = hidden.unsqueeze(1).repeat(1, src_len, 1)\n",
    "#         #hidden = [batch_size, src_len, hid_dim]\n",
    "        \n",
    "#         #permute the encoder_outputs just so that you can perform multiplication / addition\n",
    "#         encoder_outputs = encoder_outputs.permute(1, 0, 2)\n",
    "#         #encoder_outputs = [batch_size, src_len, hid_dim * 2]\n",
    "        \n",
    "#         #add\n",
    "#         energy = self.v(torch.tanh(self.W(hidden) + self.U(encoder_outputs))).squeeze(2)\n",
    "#         #(batch_size, src len, 1) ==> (batch_size, src len)\n",
    "        \n",
    "#         #mask\n",
    "#         energy = energy.masked_fill(mask, -1e10)\n",
    "        \n",
    "#         return F.softmax(energy, dim = 1)"
   ]
  },
  {
   "cell_type": "code",
   "execution_count": 83,
   "metadata": {},
   "outputs": [],
   "source": [
    "import torch\n",
    "import torch.nn as nn\n",
    "import torch.nn.functional as F\n",
    "\n",
    "class Attention(nn.Module):\n",
    "    def __init__(self, hid_dim, attention_type='general'):\n",
    "        super().__init__()\n",
    "        self.attention_type = attention_type\n",
    "        if attention_type == 'general':\n",
    "            self.v = nn.Linear(hid_dim, 1, bias=False)\n",
    "        elif attention_type == 'multiplicative':\n",
    "            self.W = nn.Linear(hid_dim, hid_dim)\n",
    "        elif attention_type == 'additive':\n",
    "            self.W1 = nn.Linear(hid_dim, hid_dim)\n",
    "            self.W2 = nn.Linear(hid_dim, hid_dim)\n",
    "            self.v = nn.Linear(hid_dim, 1, bias=False)\n",
    "        else:\n",
    "            raise ValueError(\"Invalid attention_type. Choose from 'general', 'multiplicative', or 'additive'.\")\n",
    "\n",
    "        self.U = nn.Linear(hid_dim * 2, hid_dim)\n",
    "\n",
    "    def forward(self, hidden, encoder_outputs, mask):\n",
    "        batch_size = encoder_outputs.shape[1]\n",
    "        src_len = encoder_outputs.shape[0]\n",
    "\n",
    "        hidden = hidden.unsqueeze(1).repeat(1, src_len, 1)\n",
    "        encoder_outputs = encoder_outputs.permute(1, 0, 2)\n",
    "\n",
    "        if self.attention_type == 'general':\n",
    "            energy = self.v(torch.tanh(self.U(encoder_outputs))).squeeze(2)\n",
    "        elif self.attention_type == 'multiplicative':\n",
    "            # import pdb;pdb.set_trace()\n",
    "            # print(hidden.size())\n",
    "            # print(self.W(encoder_outputs).permute(0, 2, 1).size())\n",
    "            # query @ self.W @ values.T \n",
    "            energy = torch.matmul(hidden, self.W(encoder_outputs).permute(0, 2, 1))\n",
    "        elif self.attention_type == 'additive':\n",
    "            energy = self.v(torch.tanh(self.W1(hidden) + self.W2(encoder_outputs))).squeeze(2)\n",
    "        else:\n",
    "            raise ValueError(\"Invalid attention_type. Choose from 'general', 'multiplicative', or 'additive'.\")\n",
    "\n",
    "        energy = energy.masked_fill(mask, -1e10)\n",
    "\n",
    "        return F.softmax(energy, dim=1)\n"
   ]
  },
  {
   "cell_type": "markdown",
   "metadata": {},
   "source": [
    "### Decoder"
   ]
  },
  {
   "cell_type": "code",
   "execution_count": 84,
   "metadata": {},
   "outputs": [],
   "source": [
    "class Decoder(nn.Module):\n",
    "    def __init__(self, output_dim, emb_dim, hid_dim, dropout, attention):\n",
    "        super().__init__()\n",
    "        self.output_dim = output_dim\n",
    "        self.attention  = attention\n",
    "        self.embedding  = nn.Embedding(output_dim, emb_dim)\n",
    "        self.rnn        = nn.GRU((hid_dim * 2) + emb_dim, hid_dim)\n",
    "        self.fc         = nn.Linear((hid_dim * 2) + hid_dim + emb_dim, output_dim)\n",
    "        self.dropout    = nn.Dropout(dropout)\n",
    "        \n",
    "    def forward(self, input, hidden, encoder_outputs, mask):\n",
    "        #input: [batch_size]\n",
    "        #hidden: [batch_size, hid_dim]\n",
    "        #encoder_ouputs: [src len, batch_size, hid_dim * 2]\n",
    "        #mask: [batch_size, src len]\n",
    "                \n",
    "        #embed our input\n",
    "        input    = input.unsqueeze(0)\n",
    "        embedded = self.dropout(self.embedding(input))\n",
    "        #embedded = [1, batch_size, emb_dim]\n",
    "        \n",
    "        #calculate the attention\n",
    "        a = self.attention(hidden, encoder_outputs, mask)\n",
    "        #a = [batch_size, src len]\n",
    "        a = a.unsqueeze(1)\n",
    "        #a = [batch_size, 1, src len]\n",
    "        encoder_outputs = encoder_outputs.permute(1, 0, 2)\n",
    "        #encoder_ouputs: [batch_size, src len, hid_dim * 2]\n",
    "        weighted = torch.bmm(a, encoder_outputs)\n",
    "        #weighted: [batch_size, 1, hid_dim * 2]\n",
    "        weighted = weighted.permute(1, 0, 2)\n",
    "        #weighted: [1, batch_size, hid_dim * 2]\n",
    "        \n",
    "        #send the input to decoder rnn\n",
    "            #concatenate (embed, weighted encoder_outputs)\n",
    "            #[1, batch_size, emb_dim]; [1, batch_size, hid_dim * 2]\n",
    "        rnn_input = torch.cat((embedded, weighted), dim = 2)\n",
    "        #rnn_input: [1, batch_size, emb_dim + hid_dim * 2]\n",
    "        output, hidden = self.rnn(rnn_input, hidden.unsqueeze(0))\n",
    "            \n",
    "        #send the output of the decoder rnn to fc layer to predict the word\n",
    "            #prediction = fc(concatenate (output, weighted, embed))\n",
    "        embedded = embedded.squeeze(0)\n",
    "        output   = output.squeeze(0)\n",
    "        weighted = weighted.squeeze(0)\n",
    "        prediction = self.fc(torch.cat((embedded, output, weighted), dim = 1))\n",
    "        #prediction: [batch_size, output_dim]\n",
    "            \n",
    "        return prediction, hidden.squeeze(0), a.squeeze(1)"
   ]
  },
  {
   "cell_type": "markdown",
   "metadata": {},
   "source": [
    "### Training"
   ]
  },
  {
   "cell_type": "code",
   "execution_count": 85,
   "metadata": {},
   "outputs": [],
   "source": [
    "def initialize_weights(m):\n",
    "    for name, param in m.named_parameters():\n",
    "        if 'weight' in name:\n",
    "            nn.init.normal_(param.data, mean=0, std=0.01)\n",
    "        else:\n",
    "            nn.init.constant_(param.data, 0)"
   ]
  },
  {
   "cell_type": "code",
   "execution_count": 54,
   "metadata": {},
   "outputs": [],
   "source": [
    "input_dim   = len(vocab_transform[SRC_LANGUAGE])\n",
    "output_dim  = len(vocab_transform[TRG_LANGUAGE])\n",
    "emb_dim     = 256  \n",
    "hid_dim     = 512  \n",
    "dropout     = 0.5\n",
    "SRC_PAD_IDX = PAD_IDX\n",
    "\n",
    "general_attn = Attention(hid_dim)\n",
    "mult_attn = Attention(hid_dim, attention_type='multiplicative')\n",
    "add_attn = Attention(hid_dim, attention_type='additive')\n",
    "enc  = Encoder(input_dim,  emb_dim,  hid_dim, dropout)\n",
    "\n"
   ]
  },
  {
   "cell_type": "code",
   "execution_count": 154,
   "metadata": {},
   "outputs": [
    {
     "data": {
      "text/plain": [
       "7333"
      ]
     },
     "execution_count": 154,
     "metadata": {},
     "output_type": "execute_result"
    }
   ],
   "source": [
    "len(vocab_transform[SRC_LANGUAGE])"
   ]
  },
  {
   "cell_type": "code",
   "execution_count": 157,
   "metadata": {},
   "outputs": [
    {
     "data": {
      "text/plain": [
       "1"
      ]
     },
     "execution_count": 157,
     "metadata": {},
     "output_type": "execute_result"
    }
   ],
   "source": [
    "PAD_IDX\n"
   ]
  },
  {
   "cell_type": "code",
   "execution_count": 103,
   "metadata": {},
   "outputs": [
    {
     "data": {
      "text/plain": [
       "18612"
      ]
     },
     "execution_count": 103,
     "metadata": {},
     "output_type": "execute_result"
    }
   ],
   "source": [
    "output_dim "
   ]
  },
  {
   "cell_type": "code",
   "execution_count": 87,
   "metadata": {},
   "outputs": [
    {
     "data": {
      "text/plain": [
       "Seq2SeqPackedAttention(\n",
       "  (encoder): Encoder(\n",
       "    (embedding): Embedding(7333, 256)\n",
       "    (rnn): GRU(256, 512, bidirectional=True)\n",
       "    (fc): Linear(in_features=1024, out_features=512, bias=True)\n",
       "    (dropout): Dropout(p=0.5, inplace=False)\n",
       "  )\n",
       "  (decoder): Decoder(\n",
       "    (attention): Attention(\n",
       "      (v): Linear(in_features=512, out_features=1, bias=False)\n",
       "      (U): Linear(in_features=1024, out_features=512, bias=True)\n",
       "    )\n",
       "    (embedding): Embedding(18612, 256)\n",
       "    (rnn): GRU(1280, 512)\n",
       "    (fc): Linear(in_features=1792, out_features=18612, bias=True)\n",
       "    (dropout): Dropout(p=0.5, inplace=False)\n",
       "  )\n",
       ")"
      ]
     },
     "execution_count": 87,
     "metadata": {},
     "output_type": "execute_result"
    }
   ],
   "source": [
    "# General Attention\n",
    "dec1  = Decoder(output_dim, emb_dim,  hid_dim, dropout, general_attn)\n",
    "model1 = Seq2SeqPackedAttention(enc, dec1, SRC_PAD_IDX, device).to(device)\n",
    "model1.apply(initialize_weights)"
   ]
  },
  {
   "cell_type": "code",
   "execution_count": 88,
   "metadata": {},
   "outputs": [
    {
     "data": {
      "text/plain": [
       "Seq2SeqPackedAttention(\n",
       "  (encoder): Encoder(\n",
       "    (embedding): Embedding(7333, 256)\n",
       "    (rnn): GRU(256, 512, bidirectional=True)\n",
       "    (fc): Linear(in_features=1024, out_features=512, bias=True)\n",
       "    (dropout): Dropout(p=0.5, inplace=False)\n",
       "  )\n",
       "  (decoder): Decoder(\n",
       "    (attention): Attention(\n",
       "      (W): Linear(in_features=512, out_features=512, bias=True)\n",
       "      (U): Linear(in_features=1024, out_features=512, bias=True)\n",
       "    )\n",
       "    (embedding): Embedding(18612, 256)\n",
       "    (rnn): GRU(1280, 512)\n",
       "    (fc): Linear(in_features=1792, out_features=18612, bias=True)\n",
       "    (dropout): Dropout(p=0.5, inplace=False)\n",
       "  )\n",
       ")"
      ]
     },
     "execution_count": 88,
     "metadata": {},
     "output_type": "execute_result"
    }
   ],
   "source": [
    "# Multiplicative Attention\n",
    "dec2  = Decoder(output_dim, emb_dim,  hid_dim, dropout, mult_attn)\n",
    "model2 = Seq2SeqPackedAttention(enc, dec2, SRC_PAD_IDX, device).to(device)\n",
    "model2.apply(initialize_weights)"
   ]
  },
  {
   "cell_type": "code",
   "execution_count": 89,
   "metadata": {},
   "outputs": [
    {
     "data": {
      "text/plain": [
       "Seq2SeqPackedAttention(\n",
       "  (encoder): Encoder(\n",
       "    (embedding): Embedding(7333, 256)\n",
       "    (rnn): GRU(256, 512, bidirectional=True)\n",
       "    (fc): Linear(in_features=1024, out_features=512, bias=True)\n",
       "    (dropout): Dropout(p=0.5, inplace=False)\n",
       "  )\n",
       "  (decoder): Decoder(\n",
       "    (attention): Attention(\n",
       "      (W1): Linear(in_features=512, out_features=512, bias=True)\n",
       "      (W2): Linear(in_features=512, out_features=512, bias=True)\n",
       "      (v): Linear(in_features=512, out_features=1, bias=False)\n",
       "      (U): Linear(in_features=1024, out_features=512, bias=True)\n",
       "    )\n",
       "    (embedding): Embedding(18612, 256)\n",
       "    (rnn): GRU(1280, 512)\n",
       "    (fc): Linear(in_features=1792, out_features=18612, bias=True)\n",
       "    (dropout): Dropout(p=0.5, inplace=False)\n",
       "  )\n",
       ")"
      ]
     },
     "execution_count": 89,
     "metadata": {},
     "output_type": "execute_result"
    }
   ],
   "source": [
    "# Additive Attention\n",
    "dec3  = Decoder(output_dim, emb_dim,  hid_dim, dropout, add_attn)\n",
    "model3 = Seq2SeqPackedAttention(enc, dec3, SRC_PAD_IDX, device).to(device)\n",
    "model3.apply(initialize_weights)"
   ]
  },
  {
   "cell_type": "code",
   "execution_count": 90,
   "metadata": {},
   "outputs": [],
   "source": [
    "#we can print the complexity by the number of parameters\n",
    "def count_parameters(model):\n",
    "    params = [p.numel() for p in model.parameters() if p.requires_grad]\n",
    "    return f'______{sum(params):>6}'\n",
    "    \n"
   ]
  },
  {
   "cell_type": "code",
   "execution_count": 91,
   "metadata": {},
   "outputs": [
    {
     "name": "stdout",
     "output_type": "stream",
     "text": [
      "Total parameters of model with general attention is ______46184372\n"
     ]
    }
   ],
   "source": [
    "print(f\"Total parameters of model with general attention is {count_parameters(model1)}\")"
   ]
  },
  {
   "cell_type": "code",
   "execution_count": 92,
   "metadata": {},
   "outputs": [
    {
     "name": "stdout",
     "output_type": "stream",
     "text": [
      "Total parameters of model with multiplicative attention is ______46446516\n"
     ]
    }
   ],
   "source": [
    "print(f\"Total parameters of model with multiplicative attention is {count_parameters(model2)}\")"
   ]
  },
  {
   "cell_type": "code",
   "execution_count": 93,
   "metadata": {},
   "outputs": [
    {
     "name": "stdout",
     "output_type": "stream",
     "text": [
      "Total parameters of model with additive attention is ______46709684\n"
     ]
    }
   ],
   "source": [
    "print(f\"Total parameters of model with additive attention is {count_parameters(model3)}\")"
   ]
  },
  {
   "cell_type": "code",
   "execution_count": 94,
   "metadata": {},
   "outputs": [],
   "source": [
    "import torch.optim as optim\n",
    "\n",
    "lr = 0.001\n",
    "\n",
    "#training hyperparameters\n",
    "optimizer1 = optim.Adam(model1.parameters(), lr=lr)\n",
    "optimizer2 = optim.Adam(model2.parameters(), lr=lr)\n",
    "optimizer3 = optim.Adam(model3.parameters(), lr=lr)\n",
    "criterion = nn.CrossEntropyLoss(ignore_index = PAD_IDX) #combine softmax with cross entropy"
   ]
  },
  {
   "cell_type": "code",
   "execution_count": 95,
   "metadata": {},
   "outputs": [],
   "source": [
    "def train(model, loader, optimizer, criterion, clip, loader_length):\n",
    "    \n",
    "    model.train()\n",
    "    epoch_loss = 0\n",
    "    \n",
    "    for src, src_length, trg in loader:\n",
    "        \n",
    "        src = src.to(device)\n",
    "        trg = trg.to(device)\n",
    "        \n",
    "        optimizer.zero_grad()\n",
    "        \n",
    "        output, attentions = model(src, src_length, trg)\n",
    "        \n",
    "        #trg    = [trg len, batch size]\n",
    "        #output = [trg len, batch size, output dim]\n",
    "        output_dim = output.shape[-1]\n",
    "        \n",
    "        #the loss function only works on 2d inputs with 1d targets thus we need to flatten each of them\n",
    "        output = output[1:].view(-1, output_dim)\n",
    "        trg    = trg[1:].view(-1)\n",
    "        #trg    = [(trg len - 1) * batch size]\n",
    "        #output = [(trg len - 1) * batch size, output dim]\n",
    "        \n",
    "        loss = criterion(output, trg)\n",
    "        \n",
    "        loss.backward()\n",
    "        \n",
    "        #clip the gradients to prevent them from exploding (a common issue in RNNs)\n",
    "        torch.nn.utils.clip_grad_norm_(model.parameters(), clip)\n",
    "        \n",
    "        optimizer.step()\n",
    "        \n",
    "        epoch_loss += loss.item()\n",
    "        \n",
    "    return epoch_loss / loader_length"
   ]
  },
  {
   "cell_type": "code",
   "execution_count": 96,
   "metadata": {},
   "outputs": [],
   "source": [
    "def evaluate(model, loader, criterion, loader_length):\n",
    "        \n",
    "    #turn off dropout (and batch norm if used)\n",
    "    model.eval()\n",
    "    \n",
    "    epoch_loss = 0\n",
    "    \n",
    "    with torch.no_grad():\n",
    "    \n",
    "        for src, src_length, trg in loader:\n",
    "        \n",
    "            src = src.to(device)\n",
    "            trg = trg.to(device)\n",
    "\n",
    "            output, attentions = model(src, src_length, trg, 0) #turn off teacher forcing\n",
    "\n",
    "            #trg    = [trg len, batch size]\n",
    "            #output = [trg len, batch size, output dim]\n",
    "\n",
    "            output_dim = output.shape[-1]\n",
    "            \n",
    "            output = output[1:].view(-1, output_dim)\n",
    "            trg = trg[1:].view(-1)\n",
    "\n",
    "            #trg    = [(trg len - 1) * batch size]\n",
    "            #output = [(trg len - 1) * batch size, output dim]\n",
    "\n",
    "            loss = criterion(output, trg)\n",
    "            \n",
    "            epoch_loss += loss.item()\n",
    "        \n",
    "    return epoch_loss / loader_length"
   ]
  },
  {
   "cell_type": "markdown",
   "metadata": {},
   "source": [
    "### Start training"
   ]
  },
  {
   "cell_type": "code",
   "execution_count": 97,
   "metadata": {},
   "outputs": [],
   "source": [
    "train_loader_length = len(list(iter(train_loader)))\n",
    "val_loader_length   = len(list(iter(valid_loader)))\n",
    "test_loader_length  = len(list(iter(test_loader)))\n"
   ]
  },
  {
   "cell_type": "code",
   "execution_count": 98,
   "metadata": {},
   "outputs": [],
   "source": [
    "def epoch_time(start_time, end_time):\n",
    "    elapsed_time = end_time - start_time\n",
    "    elapsed_mins = int(elapsed_time / 60)\n",
    "    elapsed_secs = int(elapsed_time - (elapsed_mins * 60))\n",
    "    return elapsed_mins, elapsed_secs"
   ]
  },
  {
   "cell_type": "code",
   "execution_count": 100,
   "metadata": {},
   "outputs": [
    {
     "name": "stdout",
     "output_type": "stream",
     "text": [
      "Model with multiplicative attention\n",
      "> \u001b[1;32mc:\\users\\predator\\appdata\\local\\temp\\ipykernel_25708\\3753052001.py\u001b[0m(33)\u001b[0;36mforward\u001b[1;34m()\u001b[0m\n",
      "\n",
      "torch.Size([64, 74, 512])\n",
      "torch.Size([64, 74, 1024])\n",
      "*** RuntimeError: mat1 and mat2 shapes cannot be multiplied (4736x1024 and 512x512)\n"
     ]
    }
   ],
   "source": [
    "best_valid_loss = float('inf')\n",
    "num_epochs = 10\n",
    "clip       = 1\n",
    "\n",
    "models = {\"general\":model1, 'multiplicative':model2, 'additive': model3}\n",
    "models_lst = [model2, model2, model3]\n",
    "optimizer_lst = [optimizer2, optimizer2, optimizer3]\n",
    "\n",
    "training_params = []\n",
    "\n",
    "for i in range(0,1):\n",
    "\n",
    "    # if i == 0:\n",
    "    #     model_name = \"Model with general attention\"\n",
    "    #     model_alias = 'generalatt'\n",
    "    if i == 0:\n",
    "        model_name = \"Model with multiplicative attention\"\n",
    "        model_alias = 'multatt'\n",
    "    # if i == 2:\n",
    "    #     model_name = \"Model with additive attention\"\n",
    "    #     model_alias = 'addatt'\n",
    "    \n",
    "    print(model_name)\n",
    "\n",
    "    save_path = f'models/{models_lst[i].__class__.__name__}{model_alias}.pt'\n",
    "\n",
    "    train_losses = []\n",
    "    valid_losses = []\n",
    "\n",
    "    for epoch in range(num_epochs):\n",
    "\n",
    "        \n",
    "        start_time = time.time()\n",
    "\n",
    "        train_loss = train(models_lst[i], train_loader, optimizer_lst[i], criterion, clip, train_loader_length)\n",
    "        valid_loss = evaluate(models_lst[i], valid_loader, criterion, val_loader_length)\n",
    "        \n",
    "        #for plotting\n",
    "        train_losses.append(train_loss)\n",
    "        valid_losses.append(valid_loss)\n",
    "        \n",
    "        end_time = time.time()\n",
    "        \n",
    "        epoch_mins, epoch_secs = epoch_time(start_time, end_time)\n",
    "\n",
    "        \n",
    "        if valid_loss < best_valid_loss:\n",
    "            best_valid_loss = valid_loss\n",
    "            torch.save(models_lst[i].state_dict(), save_path)\n",
    "        \n",
    "        print(f'Epoch: {epoch+1:02} | Time: {epoch_mins}m {epoch_secs}s')\n",
    "        print(f'\\tTrain Loss: {train_loss:.3f} | Train PPL: {math.exp(train_loss):7.3f}')\n",
    "        print(f'\\t Val. Loss: {valid_loss:.3f} |  Val. PPL: {math.exp(valid_loss):7.3f}')\n",
    "        training_params.append(\n",
    "            {\n",
    "                \"Model\": model_name,\n",
    "                \"Epoc\": f\"{epoch+1:02}\", \n",
    "                \"Time\" : f\"{epoch_mins}m {epoch_secs}s'\",\n",
    "                \"Train Loss\": f\"{train_loss:.3f}\",\n",
    "                \"Train PPL\": f\"{math.exp(train_loss):7.3f}\",\n",
    "                \"Val Loss\": f\"{valid_loss:.3f}\",\n",
    "                \"Val PPL\": f\"{math.exp(valid_loss):7.3f}\"\n",
    "            }\n",
    "        )"
   ]
  },
  {
   "cell_type": "code",
   "execution_count": null,
   "metadata": {},
   "outputs": [],
   "source": [
    "torch.Size([64, 74])"
   ]
  },
  {
   "cell_type": "code",
   "execution_count": null,
   "metadata": {},
   "outputs": [],
   "source": [
    "torch.Size([64, 512])\n",
    "torch.Size([74, 64, 1024])\n",
    "torch.Size([74, 64, 1024])"
   ]
  },
  {
   "cell_type": "code",
   "execution_count": 58,
   "metadata": {},
   "outputs": [
    {
     "data": {
      "text/plain": [
       "[{'Model': 'Model with general attention',\n",
       "  'Epoc': '01',\n",
       "  'Time': \"17m 35s'\",\n",
       "  'Train Loss': '6.986',\n",
       "  'Train PPL': '1081.825',\n",
       "  'Val Loss': '6.798',\n",
       "  'Val PPL': '896.485'},\n",
       " {'Model': 'Model with general attention',\n",
       "  'Epoc': '02',\n",
       "  'Time': \"27m 43s'\",\n",
       "  'Train Loss': '6.268',\n",
       "  'Train PPL': '527.426',\n",
       "  'Val Loss': '6.727',\n",
       "  'Val PPL': '834.508'},\n",
       " {'Model': 'Model with general attention',\n",
       "  'Epoc': '03',\n",
       "  'Time': \"32m 17s'\",\n",
       "  'Train Loss': '5.947',\n",
       "  'Train PPL': '382.565',\n",
       "  'Val Loss': '6.691',\n",
       "  'Val PPL': '805.110'},\n",
       " {'Model': 'Model with general attention',\n",
       "  'Epoc': '04',\n",
       "  'Time': \"33m 10s'\",\n",
       "  'Train Loss': '5.682',\n",
       "  'Train PPL': '293.455',\n",
       "  'Val Loss': '6.674',\n",
       "  'Val PPL': '791.714'},\n",
       " {'Model': 'Model with general attention',\n",
       "  'Epoc': '05',\n",
       "  'Time': \"33m 27s'\",\n",
       "  'Train Loss': '5.439',\n",
       "  'Train PPL': '230.116',\n",
       "  'Val Loss': '6.700',\n",
       "  'Val PPL': '812.775'},\n",
       " {'Model': 'Model with general attention',\n",
       "  'Epoc': '06',\n",
       "  'Time': \"33m 29s'\",\n",
       "  'Train Loss': '5.205',\n",
       "  'Train PPL': '182.185',\n",
       "  'Val Loss': '6.592',\n",
       "  'Val PPL': '729.447'},\n",
       " {'Model': 'Model with general attention',\n",
       "  'Epoc': '07',\n",
       "  'Time': \"33m 27s'\",\n",
       "  'Train Loss': '4.964',\n",
       "  'Train PPL': '143.115',\n",
       "  'Val Loss': '6.607',\n",
       "  'Val PPL': '740.553'},\n",
       " {'Model': 'Model with general attention',\n",
       "  'Epoc': '08',\n",
       "  'Time': \"34m 24s'\",\n",
       "  'Train Loss': '4.734',\n",
       "  'Train PPL': '113.700',\n",
       "  'Val Loss': '6.640',\n",
       "  'Val PPL': '765.066'},\n",
       " {'Model': 'Model with general attention',\n",
       "  'Epoc': '09',\n",
       "  'Time': \"21m 55s'\",\n",
       "  'Train Loss': '4.532',\n",
       "  'Train PPL': ' 92.981',\n",
       "  'Val Loss': '6.712',\n",
       "  'Val PPL': '822.365'},\n",
       " {'Model': 'Model with general attention',\n",
       "  'Epoc': '10',\n",
       "  'Time': \"19m 13s'\",\n",
       "  'Train Loss': '4.344',\n",
       "  'Train PPL': ' 77.050',\n",
       "  'Val Loss': '6.807',\n",
       "  'Val PPL': '904.128'}]"
      ]
     },
     "execution_count": 58,
     "metadata": {},
     "output_type": "execute_result"
    }
   ],
   "source": [
    "training_params"
   ]
  },
  {
   "cell_type": "code",
   "execution_count": 106,
   "metadata": {},
   "outputs": [
    {
     "name": "stdout",
     "output_type": "stream",
     "text": [
      "| Test Loss: 6.582 | Test PPL: 722.102 |\n"
     ]
    }
   ],
   "source": [
    "model1.load_state_dict(torch.load('./models/Seq2SeqPackedAttentiongeneralatt.pt'))\n",
    "test_loss = evaluate(model1, test_loader, criterion, test_loader_length)\n",
    "\n",
    "print(f'| Test Loss: {test_loss:.3f} | Test PPL: {math.exp(test_loss):7.3f} |')"
   ]
  },
  {
   "cell_type": "code",
   "execution_count": 108,
   "metadata": {},
   "outputs": [
    {
     "data": {
      "text/plain": [
       "Seq2SeqPackedAttention(\n",
       "  (encoder): Encoder(\n",
       "    (embedding): Embedding(7333, 256)\n",
       "    (rnn): GRU(256, 512, bidirectional=True)\n",
       "    (fc): Linear(in_features=1024, out_features=512, bias=True)\n",
       "    (dropout): Dropout(p=0.5, inplace=False)\n",
       "  )\n",
       "  (decoder): Decoder(\n",
       "    (attention): Attention(\n",
       "      (v): Linear(in_features=512, out_features=1, bias=False)\n",
       "      (U): Linear(in_features=1024, out_features=512, bias=True)\n",
       "    )\n",
       "    (embedding): Embedding(18612, 256)\n",
       "    (rnn): GRU(1280, 512)\n",
       "    (fc): Linear(in_features=1792, out_features=18612, bias=True)\n",
       "    (dropout): Dropout(p=0.5, inplace=False)\n",
       "  )\n",
       ")"
      ]
     },
     "execution_count": 108,
     "metadata": {},
     "output_type": "execute_result"
    }
   ],
   "source": [
    "model1"
   ]
  },
  {
   "cell_type": "code",
   "execution_count": 109,
   "metadata": {},
   "outputs": [
    {
     "data": {
      "text/plain": [
       "'it happened after the death of saul, when david was returned from the slaughter of the amalekites, and david had stayed two days in ziklag;'"
      ]
     },
     "execution_count": 109,
     "metadata": {},
     "output_type": "execute_result"
    }
   ],
   "source": [
    "sample[0]"
   ]
  },
  {
   "cell_type": "code",
   "execution_count": 110,
   "metadata": {},
   "outputs": [
    {
     "data": {
      "text/plain": [
       "'दाऊदले अमालेकीहरूलाई हराएर पछि सिकलग गए। यो शाऊलको मृत्यु भएको केही दिन पछिको कुरा हो। दाऊद त्यहाँ दुइ दिन बसे।'"
      ]
     },
     "execution_count": 110,
     "metadata": {},
     "output_type": "execute_result"
    }
   ],
   "source": [
    "sample[1]"
   ]
  },
  {
   "cell_type": "code",
   "execution_count": 111,
   "metadata": {},
   "outputs": [
    {
     "data": {
      "text/plain": [
       "tensor([   2,   26,  199,  120,    5,  230,    7,  540,    4,   56,  136,   37,\n",
       "         475,   38,    5, 1368,    7,    5, 4427,    4,    6,  136,   66,  800,\n",
       "         133,  130,   11, 4404,   14,    3], device='cuda:0')"
      ]
     },
     "execution_count": 111,
     "metadata": {},
     "output_type": "execute_result"
    }
   ],
   "source": [
    "src_text = text_transform[SRC_LANGUAGE](sample[0]).to(device)\n",
    "src_text"
   ]
  },
  {
   "cell_type": "code",
   "execution_count": 112,
   "metadata": {},
   "outputs": [
    {
     "data": {
      "text/plain": [
       "tensor([   2,  244,    0, 5675,  140,    0,  109,    4,   20, 2576,  355,   42,\n",
       "          70,   90, 6023,   81,   33,    4,  431,   76,  350,   90,  438,    4,\n",
       "           3], device='cuda:0')"
      ]
     },
     "execution_count": 112,
     "metadata": {},
     "output_type": "execute_result"
    }
   ],
   "source": [
    "trg_text = text_transform[TRG_LANGUAGE](sample[1]).to(device)\n",
    "trg_text"
   ]
  },
  {
   "cell_type": "code",
   "execution_count": 113,
   "metadata": {},
   "outputs": [],
   "source": [
    "src_text = src_text.reshape(-1, 1)  #because batch_size is 1"
   ]
  },
  {
   "cell_type": "code",
   "execution_count": 114,
   "metadata": {},
   "outputs": [],
   "source": [
    "trg_text = trg_text.reshape(-1, 1)"
   ]
  },
  {
   "cell_type": "code",
   "execution_count": 115,
   "metadata": {},
   "outputs": [
    {
     "data": {
      "text/plain": [
       "(torch.Size([30, 1]), torch.Size([25, 1]))"
      ]
     },
     "execution_count": 115,
     "metadata": {},
     "output_type": "execute_result"
    }
   ],
   "source": [
    "src_text.shape, trg_text.shape\n"
   ]
  },
  {
   "cell_type": "code",
   "execution_count": 140,
   "metadata": {},
   "outputs": [
    {
     "data": {
      "text/plain": [
       "'en'"
      ]
     },
     "execution_count": 140,
     "metadata": {},
     "output_type": "execute_result"
    }
   ],
   "source": [
    "text_length = torch.tensor([src_text.size(0)]).to(dtype=torch.int64)\n",
    "SRC_LANGUAGE"
   ]
  },
  {
   "cell_type": "code",
   "execution_count": 202,
   "metadata": {},
   "outputs": [
    {
     "name": "stdout",
     "output_type": "stream",
     "text": [
      "functools.partial(<function _spacy_tokenize at 0x000002389DC57B50>, spacy=<spacy.lang.en.English object at 0x0000023A490179A0>)\n",
      "When he had made an end of prophesying, he came to the high place.\n",
      "Vocab()\n",
      "['When', 'he', 'had', 'made', 'an', 'end', 'of', 'prophesying', ',', 'he', 'came', 'to', 'the', 'high', 'place', '.']\n",
      "<function tensor_transform at 0x000002389AE4BA30>\n",
      "[0, 13, 66, 92, 114, 292, 7, 2796, 4, 13, 78, 9, 5, 231, 144, 8]\n",
      "<function trivial_tokenize at 0x000002389AE4A8C0>\n",
      "\n",
      "Vocab()\n",
      "['']\n",
      "<function tensor_transform at 0x000002389AE4BA30>\n",
      "[0]\n"
     ]
    },
    {
     "data": {
      "text/plain": [
       "'तब त्यो'"
      ]
     },
     "execution_count": 202,
     "metadata": {},
     "output_type": "execute_result"
    }
   ],
   "source": [
    "model1.load_state_dict(torch.load('./models/Seq2SeqPackedAttentiongeneralatt.pt'))\n",
    "\n",
    "def translate_eng_to_nepali(src, model):\n",
    "    # trg_text = ''\n",
    "    SRC_LANGUAGE = 'en'\n",
    "    TRG_LANGUAGE = 'ne'\n",
    "    src_text = text_transform[SRC_LANGUAGE](src).to(device)\n",
    "    src_text = src_text.reshape(-1, 1)\n",
    "    trg_text = text_transform[TRG_LANGUAGE]('').to(device)\n",
    "    trg_text = trg_text.reshape(-1, 1)\n",
    "    text_length = torch.tensor([src_text.size(0)]).to(dtype=torch.int64)\n",
    "    esc_chars = ['<sos>', '<unk>', '<eos>', '।']\n",
    "    model.eval()\n",
    "    with torch.no_grad():\n",
    "        output, attentions = model(src_text, text_length, trg_text, 0) \n",
    "    output = output.squeeze(1)\n",
    "    output = output[1:]\n",
    "    output_max = output.argmax(1) \n",
    "    mapping = vocab_transform[TRG_LANGUAGE].get_itos()\n",
    "    trg_tokens = ['<sos>'] + [mapping[token.item()] for token in output_max]\n",
    "    trg_tokens = [trg for trg in trg_tokens if trg not in esc_chars]\n",
    "    return ' '.join(trg_tokens)\n",
    "\n",
    "src = 'When he had made an end of prophesying, he came to the high place.'   \n",
    "\n",
    "\n",
    "\n",
    "\n",
    "translate_eng_to_nepali(src, model1)\n"
   ]
  },
  {
   "cell_type": "code",
   "execution_count": 153,
   "metadata": {},
   "outputs": [],
   "source": [
    "model1.load_state_dict(torch.load('./models/Seq2SeqPackedAttentiongeneralatt.pt'))\n",
    "\n",
    "model1.eval()\n",
    "with torch.no_grad():\n",
    "    output, attentions = model1(src_text, text_length, trg_text, 0) #turn off teacher forcing"
   ]
  },
  {
   "cell_type": "code",
   "execution_count": 120,
   "metadata": {},
   "outputs": [
    {
     "data": {
      "text/plain": [
       "torch.Size([25, 1, 18612])"
      ]
     },
     "execution_count": 120,
     "metadata": {},
     "output_type": "execute_result"
    }
   ],
   "source": [
    "output.shape #trg_len, batch_size, trg_output_dim\n"
   ]
  },
  {
   "cell_type": "code",
   "execution_count": 121,
   "metadata": {},
   "outputs": [],
   "source": [
    "output = output.squeeze(1)\n"
   ]
  },
  {
   "cell_type": "code",
   "execution_count": 122,
   "metadata": {},
   "outputs": [
    {
     "data": {
      "text/plain": [
       "torch.Size([25, 18612])"
      ]
     },
     "execution_count": 122,
     "metadata": {},
     "output_type": "execute_result"
    }
   ],
   "source": [
    "output.shape\n"
   ]
  },
  {
   "cell_type": "code",
   "execution_count": 123,
   "metadata": {},
   "outputs": [
    {
     "data": {
      "text/plain": [
       "torch.Size([24, 18612])"
      ]
     },
     "execution_count": 123,
     "metadata": {},
     "output_type": "execute_result"
    }
   ],
   "source": [
    "output = output[1:]\n",
    "output.shape #trg_len, trg_output_dim"
   ]
  },
  {
   "cell_type": "code",
   "execution_count": 124,
   "metadata": {},
   "outputs": [],
   "source": [
    "output_max = output.argmax(1) #returns max indices\n"
   ]
  },
  {
   "cell_type": "code",
   "execution_count": 125,
   "metadata": {},
   "outputs": [
    {
     "data": {
      "text/plain": [
       "tensor([3052,    0,    0,    0,    0,    4,    4,    4,    3,    4,    3,    4,\n",
       "           3,    4,    3,    4,    3,    4,    3,    4,    3,    3,    4,    3],\n",
       "       device='cuda:0')"
      ]
     },
     "execution_count": 125,
     "metadata": {},
     "output_type": "execute_result"
    }
   ],
   "source": [
    "output_max"
   ]
  },
  {
   "cell_type": "code",
   "execution_count": 126,
   "metadata": {},
   "outputs": [],
   "source": [
    "mapping = vocab_transform[TRG_LANGUAGE].get_itos()\n"
   ]
  },
  {
   "cell_type": "code",
   "execution_count": 127,
   "metadata": {},
   "outputs": [
    {
     "name": "stdout",
     "output_type": "stream",
     "text": [
      "भोलिपल्ट\n",
      "<unk>\n",
      "<unk>\n",
      "<unk>\n",
      "<unk>\n",
      "।\n",
      "।\n",
      "।\n",
      "<eos>\n",
      "।\n",
      "<eos>\n",
      "।\n",
      "<eos>\n",
      "।\n",
      "<eos>\n",
      "।\n",
      "<eos>\n",
      "।\n",
      "<eos>\n",
      "।\n",
      "<eos>\n",
      "<eos>\n",
      "।\n",
      "<eos>\n"
     ]
    }
   ],
   "source": [
    "for token in output_max:\n",
    "    print(mapping[token.item()])"
   ]
  },
  {
   "cell_type": "markdown",
   "metadata": {},
   "source": [
    "### Attention"
   ]
  },
  {
   "cell_type": "code",
   "execution_count": 128,
   "metadata": {},
   "outputs": [
    {
     "data": {
      "text/plain": [
       "torch.Size([25, 1, 30])"
      ]
     },
     "execution_count": 128,
     "metadata": {},
     "output_type": "execute_result"
    }
   ],
   "source": [
    "attentions.shape"
   ]
  },
  {
   "cell_type": "code",
   "execution_count": 129,
   "metadata": {},
   "outputs": [
    {
     "data": {
      "text/plain": [
       "['<sos>',\n",
       " 'it',\n",
       " 'happened',\n",
       " 'after',\n",
       " 'the',\n",
       " 'death',\n",
       " 'of',\n",
       " 'saul',\n",
       " ',',\n",
       " 'when',\n",
       " 'david',\n",
       " 'was',\n",
       " 'returned',\n",
       " 'from',\n",
       " 'the',\n",
       " 'slaughter',\n",
       " 'of',\n",
       " 'the',\n",
       " 'amalekites',\n",
       " ',',\n",
       " 'and',\n",
       " 'david',\n",
       " 'had',\n",
       " 'stayed',\n",
       " 'two',\n",
       " 'days',\n",
       " 'in',\n",
       " 'ziklag',\n",
       " ';',\n",
       " '<eos>']"
      ]
     },
     "execution_count": 129,
     "metadata": {},
     "output_type": "execute_result"
    }
   ],
   "source": [
    "src_tokens = ['<sos>'] + token_transform[SRC_LANGUAGE](sample[0]) + ['<eos>']\n",
    "src_tokens"
   ]
  },
  {
   "cell_type": "code",
   "execution_count": 130,
   "metadata": {},
   "outputs": [
    {
     "data": {
      "text/plain": [
       "['<sos>',\n",
       " 'भोलिपल्ट',\n",
       " '<unk>',\n",
       " '<unk>',\n",
       " '<unk>',\n",
       " '<unk>',\n",
       " '।',\n",
       " '।',\n",
       " '।',\n",
       " '<eos>',\n",
       " '।',\n",
       " '<eos>',\n",
       " '।',\n",
       " '<eos>',\n",
       " '।',\n",
       " '<eos>',\n",
       " '।',\n",
       " '<eos>',\n",
       " '।',\n",
       " '<eos>',\n",
       " '।',\n",
       " '<eos>',\n",
       " '<eos>',\n",
       " '।',\n",
       " '<eos>']"
      ]
     },
     "execution_count": 130,
     "metadata": {},
     "output_type": "execute_result"
    }
   ],
   "source": [
    "trg_tokens = ['<sos>'] + [mapping[token.item()] for token in output_max]\n",
    "trg_tokens"
   ]
  },
  {
   "cell_type": "code",
   "execution_count": 134,
   "metadata": {},
   "outputs": [],
   "source": [
    "import matplotlib.ticker as ticker\n",
    "import matplotlib.pyplot as plt\n",
    "\n",
    "def display_attention(sentence, translation, attention):\n",
    "    \n",
    "    fig = plt.figure(figsize=(10,10))\n",
    "    ax = fig.add_subplot(111)\n",
    "    \n",
    "    attention = attention.squeeze(1).cpu().detach().numpy()\n",
    "    \n",
    "    cax = ax.matshow(attention, cmap='bone')\n",
    "   \n",
    "    ax.tick_params(labelsize=10)\n",
    "    \n",
    "    y_ticks =  [''] + translation\n",
    "    x_ticks =  [''] + sentence \n",
    "     \n",
    "    ax.set_xticklabels(x_ticks, rotation=45)\n",
    "    ax.set_yticklabels(y_ticks)\n",
    "\n",
    "    ax.xaxis.set_major_locator(ticker.MultipleLocator(1))\n",
    "    ax.yaxis.set_major_locator(ticker.MultipleLocator(1))\n",
    "\n",
    "    plt.show()\n",
    "    plt.close()"
   ]
  },
  {
   "cell_type": "code",
   "execution_count": 135,
   "metadata": {},
   "outputs": [
    {
     "name": "stderr",
     "output_type": "stream",
     "text": [
      "C:\\Users\\PREDATOR\\AppData\\Local\\Temp\\ipykernel_25708\\3489918703.py:18: UserWarning: set_ticklabels() should only be used with a fixed number of ticks, i.e. after set_ticks() or using a FixedLocator.\n",
      "  ax.set_xticklabels(x_ticks, rotation=45)\n",
      "C:\\Users\\PREDATOR\\AppData\\Local\\Temp\\ipykernel_25708\\3489918703.py:19: UserWarning: set_ticklabels() should only be used with a fixed number of ticks, i.e. after set_ticks() or using a FixedLocator.\n",
      "  ax.set_yticklabels(y_ticks)\n",
      "c:\\Users\\PREDATOR\\Music\\ML_project\\nlp\\nlp-assignment-a3\\.conda\\lib\\site-packages\\IPython\\core\\pylabtools.py:152: UserWarning: Glyph 2349 (\\N{DEVANAGARI LETTER BHA}) missing from current font.\n",
      "  fig.canvas.print_figure(bytes_io, **kw)\n",
      "c:\\Users\\PREDATOR\\Music\\ML_project\\nlp\\nlp-assignment-a3\\.conda\\lib\\site-packages\\IPython\\core\\pylabtools.py:152: UserWarning: Matplotlib currently does not support Devanagari natively.\n",
      "  fig.canvas.print_figure(bytes_io, **kw)\n",
      "c:\\Users\\PREDATOR\\Music\\ML_project\\nlp\\nlp-assignment-a3\\.conda\\lib\\site-packages\\IPython\\core\\pylabtools.py:152: UserWarning: Glyph 2379 (\\N{DEVANAGARI VOWEL SIGN O}) missing from current font.\n",
      "  fig.canvas.print_figure(bytes_io, **kw)\n",
      "c:\\Users\\PREDATOR\\Music\\ML_project\\nlp\\nlp-assignment-a3\\.conda\\lib\\site-packages\\IPython\\core\\pylabtools.py:152: UserWarning: Glyph 2354 (\\N{DEVANAGARI LETTER LA}) missing from current font.\n",
      "  fig.canvas.print_figure(bytes_io, **kw)\n",
      "c:\\Users\\PREDATOR\\Music\\ML_project\\nlp\\nlp-assignment-a3\\.conda\\lib\\site-packages\\IPython\\core\\pylabtools.py:152: UserWarning: Glyph 2367 (\\N{DEVANAGARI VOWEL SIGN I}) missing from current font.\n",
      "  fig.canvas.print_figure(bytes_io, **kw)\n",
      "c:\\Users\\PREDATOR\\Music\\ML_project\\nlp\\nlp-assignment-a3\\.conda\\lib\\site-packages\\IPython\\core\\pylabtools.py:152: UserWarning: Glyph 2346 (\\N{DEVANAGARI LETTER PA}) missing from current font.\n",
      "  fig.canvas.print_figure(bytes_io, **kw)\n",
      "c:\\Users\\PREDATOR\\Music\\ML_project\\nlp\\nlp-assignment-a3\\.conda\\lib\\site-packages\\IPython\\core\\pylabtools.py:152: UserWarning: Glyph 2381 (\\N{DEVANAGARI SIGN VIRAMA}) missing from current font.\n",
      "  fig.canvas.print_figure(bytes_io, **kw)\n",
      "c:\\Users\\PREDATOR\\Music\\ML_project\\nlp\\nlp-assignment-a3\\.conda\\lib\\site-packages\\IPython\\core\\pylabtools.py:152: UserWarning: Glyph 2335 (\\N{DEVANAGARI LETTER TTA}) missing from current font.\n",
      "  fig.canvas.print_figure(bytes_io, **kw)\n",
      "c:\\Users\\PREDATOR\\Music\\ML_project\\nlp\\nlp-assignment-a3\\.conda\\lib\\site-packages\\IPython\\core\\pylabtools.py:152: UserWarning: Glyph 2404 (\\N{DEVANAGARI DANDA}) missing from current font.\n",
      "  fig.canvas.print_figure(bytes_io, **kw)\n"
     ]
    },
    {
     "data": {
      "image/png": "[encoded data removed]",
      "text/plain": [
       "<Figure size 1000x1000 with 1 Axes>"
      ]
     },
     "metadata": {},
     "output_type": "display_data"
    }
   ],
   "source": [
    "display_attention(src_tokens, trg_tokens, attentions)\n"
   ]
  },
  {
   "cell_type": "code",
   "execution_count": null,
   "metadata": {},
   "outputs": [],
   "source": []
  }
 ],
 "metadata": {
  "kernelspec": {
   "display_name": "base",
   "language": "python",
   "name": "python3"
  },
  "language_info": {
   "codemirror_mode": {
    "name": "ipython",
    "version": 3
   },
   "file_extension": ".py",
   "mimetype": "text/x-python",
   "name": "python",
   "nbconvert_exporter": "python",
   "pygments_lexer": "ipython3",
   "version": "3.10.13"
  }
 },
 "nbformat": 4,
 "nbformat_minor": 2
}
